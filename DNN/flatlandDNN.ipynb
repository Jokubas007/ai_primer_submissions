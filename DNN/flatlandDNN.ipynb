{
 "cells": [
  {
   "cell_type": "code",
   "execution_count": 53,
   "metadata": {},
   "outputs": [
    {
     "data": {
      "text/plain": [
       "(30000, 50, 50)"
      ]
     },
     "execution_count": 53,
     "metadata": {},
     "output_type": "execute_result"
    }
   ],
   "source": [
    "import pickle, gzip\n",
    "import numpy as np\n",
    "\n",
    "X, y = pickle.load(gzip.open('flatland_train.data', 'rb'))\n",
    "y[y != 0] -= 2\n",
    "y = np.concatenate((y, y, y))\n",
    "X /= 255.\n",
    "X = np.concatenate((X, [np.transpose(x) for x in X], np.flip(X, 1)))\n",
    "X.shape\n",
    "#X = X.reshape(X.shape[0], 50, 50, 1) "
   ]
  },
  {
   "cell_type": "code",
   "execution_count": 54,
   "metadata": {},
   "outputs": [
    {
     "data": {
      "text/plain": [
       "array([0., 1., 2., 3., 4.])"
      ]
     },
     "execution_count": 54,
     "metadata": {},
     "output_type": "execute_result"
    }
   ],
   "source": [
    "np.unique(y)"
   ]
  },
  {
   "cell_type": "code",
   "execution_count": 55,
   "metadata": {},
   "outputs": [],
   "source": [
    "import tensorflow.keras as keras\n",
    "from tensorflow.keras.layers import Dense, Input, Flatten, Conv2D, BatchNormalization, \\\n",
    "                                    Activation, Dropout, MaxPooling2D\n",
    "from tensorflow.keras.models import Sequential\n",
    "from tensorflow.keras.optimizers import Adam"
   ]
  },
  {
   "cell_type": "code",
   "execution_count": 59,
   "metadata": {},
   "outputs": [
    {
     "name": "stdout",
     "output_type": "stream",
     "text": [
      "Model: \"sequential_16\"\n",
      "_________________________________________________________________\n",
      "Layer (type)                 Output Shape              Param #   \n",
      "=================================================================\n",
      "flatten_16 (Flatten)         (None, 2500)              0         \n",
      "_________________________________________________________________\n",
      "dense_61 (Dense)             (None, 1024)              2561024   \n",
      "_________________________________________________________________\n",
      "dropout_31 (Dropout)         (None, 1024)              0         \n",
      "_________________________________________________________________\n",
      "dense_62 (Dense)             (None, 512)               524800    \n",
      "_________________________________________________________________\n",
      "dropout_32 (Dropout)         (None, 512)               0         \n",
      "_________________________________________________________________\n",
      "dense_63 (Dense)             (None, 128)               65664     \n",
      "_________________________________________________________________\n",
      "dropout_33 (Dropout)         (None, 128)               0         \n",
      "_________________________________________________________________\n",
      "dense_64 (Dense)             (None, 5)                 645       \n",
      "=================================================================\n",
      "Total params: 3,152,133\n",
      "Trainable params: 3,152,133\n",
      "Non-trainable params: 0\n",
      "_________________________________________________________________\n"
     ]
    }
   ],
   "source": [
    "model = keras.models.Sequential()\n",
    "model.add(keras.layers.Flatten(input_shape=[50, 50]))\n",
    "model.add(keras.layers.Dense(2**10, activation=\"relu\"))\n",
    "model.add(keras.layers.Dropout(0.3))\n",
    "model.add(keras.layers.Dense(2**9, activation=\"relu\"))\n",
    "model.add(keras.layers.Dropout(0.3))\n",
    "model.add(keras.layers.Dense(2**7, activation=\"relu\"))\n",
    "model.add(keras.layers.Dropout(0.4))\n",
    "model.add(keras.layers.Dense(5, activation=\"softmax\"))\n",
    "model.compile(loss=\"sparse_categorical_crossentropy\",\n",
    "              optimizer=\"Adam\",\n",
    "              metrics=[\"accuracy\"])\n",
    "model.summary()"
   ]
  },
  {
   "cell_type": "code",
   "execution_count": 60,
   "metadata": {},
   "outputs": [
    {
     "name": "stdout",
     "output_type": "stream",
     "text": [
      "Epoch 1/20\n",
      "750/750 [==============================] - 15s 21ms/step - loss: 1.4218 - accuracy: 0.3789 - val_loss: 1.1422 - val_accuracy: 0.4920\n",
      "Epoch 2/20\n",
      "750/750 [==============================] - 15s 20ms/step - loss: 1.0467 - accuracy: 0.5220 - val_loss: 0.8338 - val_accuracy: 0.6190\n",
      "Epoch 3/20\n",
      "750/750 [==============================] - 16s 21ms/step - loss: 0.9020 - accuracy: 0.5803 - val_loss: 0.7937 - val_accuracy: 0.6137\n",
      "Epoch 4/20\n",
      "750/750 [==============================] - 15s 21ms/step - loss: 0.8278 - accuracy: 0.6152 - val_loss: 0.7234 - val_accuracy: 0.6618\n",
      "Epoch 5/20\n",
      "750/750 [==============================] - 15s 20ms/step - loss: 0.7624 - accuracy: 0.6434 - val_loss: 0.7094 - val_accuracy: 0.6565\n",
      "Epoch 6/20\n",
      "750/750 [==============================] - 15s 20ms/step - loss: 0.7185 - accuracy: 0.6635 - val_loss: 0.6209 - val_accuracy: 0.7055\n",
      "Epoch 7/20\n",
      "750/750 [==============================] - 14s 19ms/step - loss: 0.6882 - accuracy: 0.6781 - val_loss: 0.5995 - val_accuracy: 0.7168\n",
      "Epoch 8/20\n",
      "750/750 [==============================] - 15s 21ms/step - loss: 0.6492 - accuracy: 0.7022 - val_loss: 0.5986 - val_accuracy: 0.7207\n",
      "Epoch 9/20\n",
      "750/750 [==============================] - 16s 21ms/step - loss: 0.6163 - accuracy: 0.7150 - val_loss: 0.5387 - val_accuracy: 0.7540\n",
      "Epoch 10/20\n",
      "750/750 [==============================] - 15s 20ms/step - loss: 0.6027 - accuracy: 0.7192 - val_loss: 0.5270 - val_accuracy: 0.7402\n",
      "Epoch 11/20\n",
      "750/750 [==============================] - 15s 20ms/step - loss: 0.5768 - accuracy: 0.7319 - val_loss: 0.4839 - val_accuracy: 0.7760\n",
      "Epoch 12/20\n",
      "750/750 [==============================] - 15s 20ms/step - loss: 0.5588 - accuracy: 0.7396 - val_loss: 0.4910 - val_accuracy: 0.7757\n",
      "Epoch 13/20\n",
      "750/750 [==============================] - 16s 21ms/step - loss: 0.5335 - accuracy: 0.7531 - val_loss: 0.4828 - val_accuracy: 0.7662\n",
      "Epoch 14/20\n",
      "750/750 [==============================] - 16s 21ms/step - loss: 0.5173 - accuracy: 0.7644 - val_loss: 0.4677 - val_accuracy: 0.7762\n",
      "Epoch 15/20\n",
      "750/750 [==============================] - 17s 22ms/step - loss: 0.5017 - accuracy: 0.7715 - val_loss: 0.4405 - val_accuracy: 0.7817\n",
      "Epoch 16/20\n",
      "750/750 [==============================] - 16s 21ms/step - loss: 0.4806 - accuracy: 0.7798 - val_loss: 0.3859 - val_accuracy: 0.8392\n",
      "Epoch 17/20\n",
      "750/750 [==============================] - 15s 21ms/step - loss: 0.4633 - accuracy: 0.7890 - val_loss: 0.4018 - val_accuracy: 0.8250\n",
      "Epoch 18/20\n",
      "750/750 [==============================] - 15s 20ms/step - loss: 0.4539 - accuracy: 0.7985 - val_loss: 0.3796 - val_accuracy: 0.8283\n",
      "Epoch 19/20\n",
      "750/750 [==============================] - 15s 20ms/step - loss: 0.4358 - accuracy: 0.8051 - val_loss: 0.4031 - val_accuracy: 0.7908\n",
      "Epoch 20/20\n",
      "750/750 [==============================] - 15s 20ms/step - loss: 0.4241 - accuracy: 0.8114 - val_loss: 0.3923 - val_accuracy: 0.8293\n"
     ]
    }
   ],
   "source": [
    "loss = model.fit(X, y, epochs=20, validation_split=0.2)"
   ]
  },
  {
   "cell_type": "code",
   "execution_count": 61,
   "metadata": {},
   "outputs": [],
   "source": [
    "model.save('flatlandDNN.h5')"
   ]
  },
  {
   "cell_type": "code",
   "execution_count": null,
   "metadata": {},
   "outputs": [],
   "source": []
  }
 ],
 "metadata": {
  "kernelspec": {
   "display_name": "Python 3",
   "language": "python",
   "name": "python3"
  },
  "language_info": {
   "codemirror_mode": {
    "name": "ipython",
    "version": 3
   },
   "file_extension": ".py",
   "mimetype": "text/x-python",
   "name": "python",
   "nbconvert_exporter": "python",
   "pygments_lexer": "ipython3",
   "version": "3.7.9"
  }
 },
 "nbformat": 4,
 "nbformat_minor": 4
}
